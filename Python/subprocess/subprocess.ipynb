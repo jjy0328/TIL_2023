{
 "cells": [
  {
   "cell_type": "code",
   "execution_count": 1,
   "metadata": {},
   "outputs": [],
   "source": [
    "import subprocess"
   ]
  },
  {
   "cell_type": "code",
   "execution_count": 2,
   "metadata": {},
   "outputs": [
    {
     "name": "stdout",
     "output_type": "stream",
     "text": [
      "total 8\n",
      "drwxr-xr-x@ 4 jeongjuyeong  staff   128 Apr 11 13:46 \u001b[1m\u001b[36m.\u001b[m\u001b[m\n",
      "drwxr-xr-x@ 9 jeongjuyeong  staff   288 Apr 11 13:34 \u001b[1m\u001b[36m..\u001b[m\u001b[m\n",
      "drwxr-xr-x@ 2 jeongjuyeong  staff    64 Apr 11 13:46 \u001b[1m\u001b[36m.ipynb_checkpoints\u001b[m\u001b[m\n",
      "-rw-r--r--  1 jeongjuyeong  staff  3661 Apr 11 13:34 subprocess.ipynb\n"
     ]
    },
    {
     "data": {
      "text/plain": [
       "CompletedProcess(args='ls -la', returncode=0)"
      ]
     },
     "execution_count": 2,
     "metadata": {},
     "output_type": "execute_result"
    }
   ],
   "source": [
    "# 단순 실행 명령\n",
    "# shell=True : 신뢰할 수 없는 입력을 사용하는 경우 보안 위험이 생길 수 있음\n",
    "subprocess.run('ls -la', shell=True)"
   ]
  },
  {
   "attachments": {},
   "cell_type": "markdown",
   "metadata": {},
   "source": [
    "# 1. 출력 변경해보기"
   ]
  },
  {
   "cell_type": "code",
   "execution_count": 3,
   "metadata": {},
   "outputs": [
    {
     "name": "stdout",
     "output_type": "stream",
     "text": [
      "total 8\n",
      "drwxr-xr-x@ 4 jeongjuyeong  staff   128 Apr 11 13:46 \u001b[1m\u001b[36m.\u001b[m\u001b[m\n",
      "drwxr-xr-x@ 9 jeongjuyeong  staff   288 Apr 11 13:34 \u001b[1m\u001b[36m..\u001b[m\u001b[m\n",
      "drwxr-xr-x@ 2 jeongjuyeong  staff    64 Apr 11 13:46 \u001b[1m\u001b[36m.ipynb_checkpoints\u001b[m\u001b[m\n",
      "-rw-r--r--  1 jeongjuyeong  staff  3661 Apr 11 13:34 subprocess.ipynb\n"
     ]
    }
   ],
   "source": [
    "# shell = True로 설정하지 않는 경우\n",
    "p1 = subprocess.run(['ls',  '-la'])"
   ]
  },
  {
   "cell_type": "code",
   "execution_count": 4,
   "metadata": {},
   "outputs": [
    {
     "name": "stdout",
     "output_type": "stream",
     "text": [
      "CompletedProcess(args=['ls', '-la'], returncode=0)\n"
     ]
    }
   ],
   "source": [
    "# CompletedProcess object로 나옴\n",
    "print(p1)"
   ]
  },
  {
   "cell_type": "code",
   "execution_count": 5,
   "metadata": {},
   "outputs": [
    {
     "name": "stdout",
     "output_type": "stream",
     "text": [
      "['ls', '-la']\n"
     ]
    }
   ],
   "source": [
    "# list의 element만 나옴\n",
    "print(p1.args)"
   ]
  },
  {
   "cell_type": "code",
   "execution_count": 6,
   "metadata": {},
   "outputs": [
    {
     "name": "stdout",
     "output_type": "stream",
     "text": [
      "0\n"
     ]
    }
   ],
   "source": [
    "# 성공적으로 실행되었음을 의미\n",
    "print(p1.returncode)"
   ]
  },
  {
   "cell_type": "code",
   "execution_count": 7,
   "metadata": {},
   "outputs": [
    {
     "name": "stdout",
     "output_type": "stream",
     "text": [
      "None\n"
     ]
    }
   ],
   "source": [
    "# 현재 파일 객체에 저장된 값을 콘솔에 출력\n",
    "print(p1.stdout)"
   ]
  },
  {
   "cell_type": "code",
   "execution_count": 8,
   "metadata": {},
   "outputs": [],
   "source": [
    "# 콘솔에 아무것도 출력되지 않음.\n",
    "p2 = subprocess.run(['ls',  '-la'], capture_output=True)"
   ]
  },
  {
   "cell_type": "code",
   "execution_count": 9,
   "metadata": {},
   "outputs": [
    {
     "name": "stdout",
     "output_type": "stream",
     "text": [
      "b'total 8\\ndrwxr-xr-x@ 4 jeongjuyeong  staff   128 Apr 11 13:46 \\x1b[1m\\x1b[36m.\\x1b[m\\x1b[m\\ndrwxr-xr-x@ 9 jeongjuyeong  staff   288 Apr 11 13:34 \\x1b[1m\\x1b[36m..\\x1b[m\\x1b[m\\ndrwxr-xr-x@ 2 jeongjuyeong  staff    64 Apr 11 13:46 \\x1b[1m\\x1b[36m.ipynb_checkpoints\\x1b[m\\x1b[m\\n-rw-r--r--  1 jeongjuyeong  staff  3661 Apr 11 13:34 subprocess.ipynb\\n'\n"
     ]
    }
   ],
   "source": [
    "# 이전의 출력을 byte로 capture함\n",
    "print(p2.stdout)"
   ]
  },
  {
   "cell_type": "code",
   "execution_count": 10,
   "metadata": {},
   "outputs": [
    {
     "name": "stdout",
     "output_type": "stream",
     "text": [
      "total 8\n",
      "drwxr-xr-x@ 4 jeongjuyeong  staff   128 Apr 11 13:46 \u001b[1m\u001b[36m.\u001b[m\u001b[m\n",
      "drwxr-xr-x@ 9 jeongjuyeong  staff   288 Apr 11 13:34 \u001b[1m\u001b[36m..\u001b[m\u001b[m\n",
      "drwxr-xr-x@ 2 jeongjuyeong  staff    64 Apr 11 13:46 \u001b[1m\u001b[36m.ipynb_checkpoints\u001b[m\u001b[m\n",
      "-rw-r--r--  1 jeongjuyeong  staff  3661 Apr 11 13:34 subprocess.ipynb\n",
      "\n"
     ]
    }
   ],
   "source": [
    "# p1으로 출력된 값과 같음\n",
    "print(p2.stdout.decode())"
   ]
  },
  {
   "cell_type": "code",
   "execution_count": 11,
   "metadata": {},
   "outputs": [
    {
     "name": "stdout",
     "output_type": "stream",
     "text": [
      "total 8\n",
      "drwxr-xr-x@ 4 jeongjuyeong  staff   128 Apr 11 13:46 \u001b[1m\u001b[36m.\u001b[m\u001b[m\n",
      "drwxr-xr-x@ 9 jeongjuyeong  staff   288 Apr 11 13:34 \u001b[1m\u001b[36m..\u001b[m\u001b[m\n",
      "drwxr-xr-x@ 2 jeongjuyeong  staff    64 Apr 11 13:46 \u001b[1m\u001b[36m.ipynb_checkpoints\u001b[m\u001b[m\n",
      "-rw-r--r--  1 jeongjuyeong  staff  3661 Apr 11 13:34 subprocess.ipynb\n",
      "\n"
     ]
    }
   ],
   "source": [
    "# decode를 사용하고 싶지 않은 경우엔 text=True 붙여주기\n",
    "p3 = subprocess.run(['ls',  '-la'], capture_output=True, text=True)\n",
    "print(p3.stdout)"
   ]
  },
  {
   "cell_type": "code",
   "execution_count": 14,
   "metadata": {},
   "outputs": [
    {
     "name": "stdout",
     "output_type": "stream",
     "text": [
      "total 8\n",
      "drwxr-xr-x@ 4 jeongjuyeong  staff   128 Apr 11 13:46 \u001b[1m\u001b[36m.\u001b[m\u001b[m\n",
      "drwxr-xr-x@ 9 jeongjuyeong  staff   288 Apr 11 13:34 \u001b[1m\u001b[36m..\u001b[m\u001b[m\n",
      "drwxr-xr-x@ 2 jeongjuyeong  staff    64 Apr 11 13:46 \u001b[1m\u001b[36m.ipynb_checkpoints\u001b[m\u001b[m\n",
      "-rw-r--r--  1 jeongjuyeong  staff  3661 Apr 11 13:34 subprocess.ipynb\n",
      "\n"
     ]
    }
   ],
   "source": [
    "# standard argument를 직접적으로 설정하기\n",
    "p4 = subprocess.run(['ls',  '-la'], stdout=subprocess.PIPE, text=True)\n",
    "print(p4.stdout)"
   ]
  },
  {
   "cell_type": "code",
   "execution_count": 15,
   "metadata": {},
   "outputs": [],
   "source": [
    "# standard out을 다른 위치로 redirection하기\n",
    "# 해당 경로에 output.txt 파일이 생성됨\n",
    "\n",
    "with open('output.txt', 'w') as f:\n",
    "    p5 = subprocess.run(['ls',  '-la'], stdout=f, text=True)"
   ]
  },
  {
   "cell_type": "code",
   "execution_count": 16,
   "metadata": {},
   "outputs": [],
   "source": [
    "# 해당 경로가 존재하지 않는 경우 : output이 없어 아무것도 나오지 않음\n",
    "# dne : does not exist\n",
    "\n",
    "p6 = subprocess.run(['ls',  '-la', 'dne'], capture_output=True, text=True)"
   ]
  },
  {
   "attachments": {},
   "cell_type": "markdown",
   "metadata": {},
   "source": [
    "p6에서 python이 에러 메세지를 보여줄 것이라 생각했겠지만 출력값이 0이기에 그냥 출력값이 나오지 않음.\n",
    "따라서 p6.returncode를 통해 다시 확인을 해봐야함"
   ]
  },
  {
   "cell_type": "code",
   "execution_count": 17,
   "metadata": {},
   "outputs": [
    {
     "name": "stdout",
     "output_type": "stream",
     "text": [
      "1\n"
     ]
    }
   ],
   "source": [
    "# 1이 생기면서 에러가 발생했음을 알 수 있다.\n",
    "print(p6.returncode)"
   ]
  },
  {
   "cell_type": "code",
   "execution_count": 18,
   "metadata": {},
   "outputs": [
    {
     "name": "stdout",
     "output_type": "stream",
     "text": [
      "ls: dne: No such file or directory\n",
      "\n"
     ]
    }
   ],
   "source": [
    "# 어떤 에러인지 확인해보기\n",
    "print(p6.stderr)"
   ]
  },
  {
   "cell_type": "code",
   "execution_count": 19,
   "metadata": {},
   "outputs": [
    {
     "ename": "CalledProcessError",
     "evalue": "Command '['ls', '-la', 'dne']' returned non-zero exit status 1.",
     "output_type": "error",
     "traceback": [
      "\u001b[0;31m---------------------------------------------------------------------------\u001b[0m",
      "\u001b[0;31mCalledProcessError\u001b[0m                        Traceback (most recent call last)",
      "Cell \u001b[0;32mIn[19], line 2\u001b[0m\n\u001b[1;32m      1\u001b[0m \u001b[39m# 그냥 한번에 오류가 있으면 에러메세지를 나오게 하는 방법\u001b[39;00m\n\u001b[0;32m----> 2\u001b[0m p7 \u001b[39m=\u001b[39m subprocess\u001b[39m.\u001b[39;49mrun([\u001b[39m'\u001b[39;49m\u001b[39mls\u001b[39;49m\u001b[39m'\u001b[39;49m,  \u001b[39m'\u001b[39;49m\u001b[39m-la\u001b[39;49m\u001b[39m'\u001b[39;49m, \u001b[39m'\u001b[39;49m\u001b[39mdne\u001b[39;49m\u001b[39m'\u001b[39;49m], capture_output\u001b[39m=\u001b[39;49m\u001b[39mTrue\u001b[39;49;00m, text\u001b[39m=\u001b[39;49m\u001b[39mTrue\u001b[39;49;00m, check\u001b[39m=\u001b[39;49m\u001b[39mTrue\u001b[39;49;00m)\n",
      "File \u001b[0;32m~/opt/anaconda3/lib/python3.9/subprocess.py:528\u001b[0m, in \u001b[0;36mrun\u001b[0;34m(input, capture_output, timeout, check, *popenargs, **kwargs)\u001b[0m\n\u001b[1;32m    526\u001b[0m     retcode \u001b[39m=\u001b[39m process\u001b[39m.\u001b[39mpoll()\n\u001b[1;32m    527\u001b[0m     \u001b[39mif\u001b[39;00m check \u001b[39mand\u001b[39;00m retcode:\n\u001b[0;32m--> 528\u001b[0m         \u001b[39mraise\u001b[39;00m CalledProcessError(retcode, process\u001b[39m.\u001b[39margs,\n\u001b[1;32m    529\u001b[0m                                  output\u001b[39m=\u001b[39mstdout, stderr\u001b[39m=\u001b[39mstderr)\n\u001b[1;32m    530\u001b[0m \u001b[39mreturn\u001b[39;00m CompletedProcess(process\u001b[39m.\u001b[39margs, retcode, stdout, stderr)\n",
      "\u001b[0;31mCalledProcessError\u001b[0m: Command '['ls', '-la', 'dne']' returned non-zero exit status 1."
     ]
    }
   ],
   "source": [
    "# 그냥 한번에 오류가 있으면 에러메세지를 나오게 하는 방법\n",
    "p7 = subprocess.run(['ls',  '-la', 'dne'], capture_output=True, text=True, check=True)"
   ]
  },
  {
   "cell_type": "code",
   "execution_count": 22,
   "metadata": {},
   "outputs": [
    {
     "name": "stdout",
     "output_type": "stream",
     "text": [
      "None\n"
     ]
    }
   ],
   "source": [
    "# dev null로 리디렉션하기\n",
    "# dev null = 오류를 무시한다.\n",
    "p8 = subprocess.run(['ls',  '-la', 'dne'], stderr=subprocess.DEVNULL)\n",
    "\n",
    "print(p8.stderr)"
   ]
  },
  {
   "attachments": {},
   "cell_type": "markdown",
   "metadata": {},
   "source": [
    "# 2. 입력 변경해보기"
   ]
  },
  {
   "cell_type": "code",
   "execution_count": 26,
   "metadata": {},
   "outputs": [
    {
     "name": "stdout",
     "output_type": "stream",
     "text": [
      "This\n",
      "is \n",
      "test \n",
      "for\n",
      "subprocess\n"
     ]
    }
   ],
   "source": [
    "# cat 명령어 실행해보기\n",
    "p9 = subprocess.run(['cat',  'test.txt'], \n",
    "                    capture_output=True, text=True)\n",
    "\n",
    "print(p9.stdout)"
   ]
  },
  {
   "cell_type": "code",
   "execution_count": 28,
   "metadata": {},
   "outputs": [
    {
     "name": "stdout",
     "output_type": "stream",
     "text": [
      "3:test \n",
      "\n"
     ]
    }
   ],
   "source": [
    "# grep을 이용해서 'test'라는 단어가 있는 줄 찾기\n",
    "# p9을 입력한 후 p10을 입력하는 것이 더 효과적임. 그렇지 않으면 정확한 값을 내오지 못할 수도 있음\n",
    "p10 = subprocess.run(['grep',  '-n', 'test'], \n",
    "                    capture_output=True, text=True, input=p9.stdout)\n",
    "\n",
    "print(p10.stdout)"
   ]
  },
  {
   "cell_type": "code",
   "execution_count": 30,
   "metadata": {},
   "outputs": [
    {
     "name": "stdout",
     "output_type": "stream",
     "text": [
      "3:test \n",
      "\n"
     ]
    }
   ],
   "source": [
    "# p9, p10의 단계를 한번에 처리하는 방법\n",
    "p11 = subprocess.run('cat test.txt | grep -n test', \n",
    "                    capture_output=True, text=True, shell=True)\n",
    "\n",
    "print(p11.stdout)"
   ]
  },
  {
   "cell_type": "code",
   "execution_count": null,
   "metadata": {},
   "outputs": [],
   "source": []
  }
 ],
 "metadata": {
  "kernelspec": {
   "display_name": ".venv",
   "language": "python",
   "name": "python3"
  },
  "language_info": {
   "codemirror_mode": {
    "name": "ipython",
    "version": 3
   },
   "file_extension": ".py",
   "mimetype": "text/x-python",
   "name": "python",
   "nbconvert_exporter": "python",
   "pygments_lexer": "ipython3",
   "version": "3.9.12"
  },
  "orig_nbformat": 4
 },
 "nbformat": 4,
 "nbformat_minor": 2
}
